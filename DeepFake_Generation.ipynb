{
 "cells": [
  {
   "cell_type": "code",
   "execution_count": 2,
   "id": "2b899b91-eb07-4910-bd13-543d37fcc338",
   "metadata": {},
   "outputs": [],
   "source": [
    "import torch\n",
    "import os\n",
    "from torchvision.utils import save_image\n",
    "from tqdm import tqdm\n",
    "import torch.nn as nn\n",
    "import numpy as np"
   ]
  },
  {
   "cell_type": "code",
   "execution_count": 3,
   "id": "6057290e-e004-4ca3-be0c-dec4a697bf3f",
   "metadata": {},
   "outputs": [
    {
     "name": "stdout",
     "output_type": "stream",
     "text": [
      "cuda\n"
     ]
    }
   ],
   "source": [
    "# --- Set device ---\n",
    "device = torch.device(\"cuda\" if torch.cuda.is_available() else \"cpu\")\n",
    "print(device)"
   ]
  },
  {
   "cell_type": "code",
   "execution_count": 4,
   "id": "06d47233-a54b-40de-b639-1e1f02ab828b",
   "metadata": {},
   "outputs": [],
   "source": [
    "# --- Generator Definition ---\n",
    "# Generator Model\n",
    "class Generator(nn.Module):\n",
    "    def __init__(self, latent_dim, img_channels=1, feature_g=64):\n",
    "        super(Generator, self).__init__()\n",
    "        self.gen = nn.Sequential(\n",
    "            # latent_dim x 1 x 1 → 4x4\n",
    "            nn.ConvTranspose2d(latent_dim, feature_g * 16, 4, 1, 0, bias=False),\n",
    "            nn.BatchNorm2d(feature_g * 16),\n",
    "            nn.ReLU(True),\n",
    "        \n",
    "            # 4x4 → 8x8\n",
    "            nn.ConvTranspose2d(feature_g * 16, feature_g * 8, 4, 2, 1, bias=False),\n",
    "            nn.BatchNorm2d(feature_g * 8),\n",
    "            nn.ReLU(True),\n",
    "        \n",
    "            # 8x8 → 16x16\n",
    "            nn.ConvTranspose2d(feature_g * 8, feature_g * 4, 4, 2, 1, bias=False),\n",
    "            nn.BatchNorm2d(feature_g * 4),\n",
    "            nn.ReLU(True),\n",
    "        \n",
    "            # 16x16 → 32x32\n",
    "            nn.ConvTranspose2d(feature_g * 4, feature_g * 2, 4, 2, 1, bias=False),\n",
    "            nn.BatchNorm2d(feature_g * 2),\n",
    "            nn.ReLU(True),\n",
    "        \n",
    "            # 32x32 → 64x64\n",
    "            nn.ConvTranspose2d(feature_g * 2, feature_g, 4, 2, 1, bias=False),\n",
    "            nn.BatchNorm2d(feature_g),\n",
    "            nn.ReLU(True),\n",
    "        \n",
    "            # 64x64 → 128x128\n",
    "            nn.ConvTranspose2d(feature_g, feature_g // 2, 4, 2, 1, bias=False),\n",
    "            nn.BatchNorm2d(feature_g // 2),\n",
    "            nn.ReLU(True),\n",
    "        \n",
    "            # 128x128 → 256x256\n",
    "            nn.ConvTranspose2d(feature_g // 2, img_channels, 4, 2, 1, bias=False),\n",
    "            nn.Tanh()\n",
    "        )\n",
    "\n",
    "\n",
    "    def forward(self, x):\n",
    "        return self.gen(x)"
   ]
  },
  {
   "cell_type": "code",
   "execution_count": 5,
   "id": "73c1ff61-beab-41e0-a603-71dad3442f2a",
   "metadata": {},
   "outputs": [],
   "source": [
    "# --- Config ---\n",
    "latent_dim = 100\n",
    "num_images = 12760  # total images you want\n",
    "batch_size = 64     # batch size for speed\n",
    "output_dir = \"generated_fakes_unique\"\n",
    "os.makedirs(output_dir, exist_ok=True)"
   ]
  },
  {
   "cell_type": "code",
   "execution_count": 6,
   "id": "7737971d-3d2d-4a78-b655-12b8c73fef03",
   "metadata": {},
   "outputs": [
    {
     "data": {
      "text/plain": [
       "Generator(\n",
       "  (gen): Sequential(\n",
       "    (0): ConvTranspose2d(100, 1024, kernel_size=(4, 4), stride=(1, 1), bias=False)\n",
       "    (1): BatchNorm2d(1024, eps=1e-05, momentum=0.1, affine=True, track_running_stats=True)\n",
       "    (2): ReLU(inplace=True)\n",
       "    (3): ConvTranspose2d(1024, 512, kernel_size=(4, 4), stride=(2, 2), padding=(1, 1), bias=False)\n",
       "    (4): BatchNorm2d(512, eps=1e-05, momentum=0.1, affine=True, track_running_stats=True)\n",
       "    (5): ReLU(inplace=True)\n",
       "    (6): ConvTranspose2d(512, 256, kernel_size=(4, 4), stride=(2, 2), padding=(1, 1), bias=False)\n",
       "    (7): BatchNorm2d(256, eps=1e-05, momentum=0.1, affine=True, track_running_stats=True)\n",
       "    (8): ReLU(inplace=True)\n",
       "    (9): ConvTranspose2d(256, 128, kernel_size=(4, 4), stride=(2, 2), padding=(1, 1), bias=False)\n",
       "    (10): BatchNorm2d(128, eps=1e-05, momentum=0.1, affine=True, track_running_stats=True)\n",
       "    (11): ReLU(inplace=True)\n",
       "    (12): ConvTranspose2d(128, 64, kernel_size=(4, 4), stride=(2, 2), padding=(1, 1), bias=False)\n",
       "    (13): BatchNorm2d(64, eps=1e-05, momentum=0.1, affine=True, track_running_stats=True)\n",
       "    (14): ReLU(inplace=True)\n",
       "    (15): ConvTranspose2d(64, 32, kernel_size=(4, 4), stride=(2, 2), padding=(1, 1), bias=False)\n",
       "    (16): BatchNorm2d(32, eps=1e-05, momentum=0.1, affine=True, track_running_stats=True)\n",
       "    (17): ReLU(inplace=True)\n",
       "    (18): ConvTranspose2d(32, 1, kernel_size=(4, 4), stride=(2, 2), padding=(1, 1), bias=False)\n",
       "    (19): Tanh()\n",
       "  )\n",
       ")"
      ]
     },
     "execution_count": 6,
     "metadata": {},
     "output_type": "execute_result"
    }
   ],
   "source": [
    "# --- Load model ---\n",
    "generator = Generator(latent_dim=latent_dim).to(device)\n",
    "generator.load_state_dict(torch.load(\"checkpoints/generator_epoch_100.pth\", map_location=device))\n",
    "generator.eval()\n"
   ]
  },
  {
   "cell_type": "code",
   "execution_count": 7,
   "id": "4f492bf9-3040-4db9-825d-4bc02ebdb900",
   "metadata": {},
   "outputs": [],
   "source": [
    "# --- Track used latent vectors ---\n",
    "used_latents = set()\n",
    "\n",
    "def generate_unique_noise(batch_size, latent_dim):\n",
    "    noise_list = []\n",
    "    while len(noise_list) < batch_size:\n",
    "        new_noise = torch.randn(1, latent_dim, 1, 1)\n",
    "        noise_tuple = tuple(new_noise.view(-1).round(decimals=4).tolist())\n",
    "        if noise_tuple not in used_latents:\n",
    "            used_latents.add(noise_tuple)\n",
    "            noise_list.append(new_noise)\n",
    "    return torch.cat(noise_list, dim=0)"
   ]
  },
  {
   "cell_type": "code",
   "execution_count": 8,
   "id": "483e6701-9f97-4839-83f2-e6050c967b5c",
   "metadata": {},
   "outputs": [
    {
     "name": "stderr",
     "output_type": "stream",
     "text": [
      "Generating Unique Images: 100%|██████████████████████████████████████████████████| 12760/12760 [12:40<00:00, 16.78it/s]"
     ]
    },
    {
     "name": "stdout",
     "output_type": "stream",
     "text": [
      "✅ 12760 unique images saved in 'generated_fakes_unique'\n"
     ]
    },
    {
     "name": "stderr",
     "output_type": "stream",
     "text": [
      "\n"
     ]
    }
   ],
   "source": [
    "# --- Generate and save images ---\n",
    "with torch.no_grad():\n",
    "    current_index = 0\n",
    "    with tqdm(total=num_images, desc=\"Generating Unique Images\") as pbar:\n",
    "        while current_index < num_images:\n",
    "            curr_batch_size = min(batch_size, num_images - current_index)\n",
    "            noise = generate_unique_noise(curr_batch_size, latent_dim).to(device)\n",
    "            fake_imgs = generator(noise)\n",
    "\n",
    "            for i, img in enumerate(fake_imgs):\n",
    "                filename = os.path.join(output_dir, f\"fake_{current_index + i:05d}.png\")\n",
    "                save_image(img, filename, normalize=True)\n",
    "            current_index += curr_batch_size\n",
    "            pbar.update(curr_batch_size)\n",
    "\n",
    "print(f\"✅ {num_images} unique images saved in '{output_dir}'\")"
   ]
  },
  {
   "cell_type": "code",
   "execution_count": null,
   "id": "606fe0ab-bd62-46f2-b482-37b68f32677d",
   "metadata": {},
   "outputs": [],
   "source": []
  }
 ],
 "metadata": {
  "kernelspec": {
   "display_name": "Python (BTD)",
   "language": "python",
   "name": "btd"
  },
  "language_info": {
   "codemirror_mode": {
    "name": "ipython",
    "version": 3
   },
   "file_extension": ".py",
   "mimetype": "text/x-python",
   "name": "python",
   "nbconvert_exporter": "python",
   "pygments_lexer": "ipython3",
   "version": "3.10.16"
  }
 },
 "nbformat": 4,
 "nbformat_minor": 5
}
