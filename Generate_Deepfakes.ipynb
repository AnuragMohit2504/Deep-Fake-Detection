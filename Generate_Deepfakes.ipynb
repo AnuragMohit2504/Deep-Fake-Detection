{
 "cells": [
  {
   "cell_type": "code",
   "execution_count": 2,
   "id": "5515a3aa-7d0a-4841-91f0-a005f1852568",
   "metadata": {},
   "outputs": [],
   "source": [
    "import torch\n",
    "import os\n",
    "from torchvision.utils import save_image\n",
    "from tqdm import tqdm\n",
    "import torch.nn as nn"
   ]
  },
  {
   "cell_type": "code",
   "execution_count": 3,
   "id": "d052929c-3520-4678-a916-d96287893972",
   "metadata": {},
   "outputs": [],
   "source": [
    "# --- Set device and load model ---\n",
    "device = torch.device(\"cuda\" if torch.cuda.is_available() else \"cpu\")"
   ]
  },
  {
   "cell_type": "code",
   "execution_count": 4,
   "id": "1588e194-e1ef-4c6b-b9ef-96732d0ec470",
   "metadata": {},
   "outputs": [],
   "source": [
    "# Generator Model\n",
    "class Generator(nn.Module):\n",
    "    def __init__(self, latent_dim, img_channels=1, feature_g=64):\n",
    "        super(Generator, self).__init__()\n",
    "        self.gen = nn.Sequential(\n",
    "            # latent_dim x 1 x 1 → 4x4\n",
    "            nn.ConvTranspose2d(latent_dim, feature_g * 16, 4, 1, 0, bias=False),\n",
    "            nn.BatchNorm2d(feature_g * 16),\n",
    "            nn.ReLU(True),\n",
    "        \n",
    "            # 4x4 → 8x8\n",
    "            nn.ConvTranspose2d(feature_g * 16, feature_g * 8, 4, 2, 1, bias=False),\n",
    "            nn.BatchNorm2d(feature_g * 8),\n",
    "            nn.ReLU(True),\n",
    "        \n",
    "            # 8x8 → 16x16\n",
    "            nn.ConvTranspose2d(feature_g * 8, feature_g * 4, 4, 2, 1, bias=False),\n",
    "            nn.BatchNorm2d(feature_g * 4),\n",
    "            nn.ReLU(True),\n",
    "        \n",
    "            # 16x16 → 32x32\n",
    "            nn.ConvTranspose2d(feature_g * 4, feature_g * 2, 4, 2, 1, bias=False),\n",
    "            nn.BatchNorm2d(feature_g * 2),\n",
    "            nn.ReLU(True),\n",
    "        \n",
    "            # 32x32 → 64x64\n",
    "            nn.ConvTranspose2d(feature_g * 2, feature_g, 4, 2, 1, bias=False),\n",
    "            nn.BatchNorm2d(feature_g),\n",
    "            nn.ReLU(True),\n",
    "        \n",
    "            # 64x64 → 128x128\n",
    "            nn.ConvTranspose2d(feature_g, feature_g // 2, 4, 2, 1, bias=False),\n",
    "            nn.BatchNorm2d(feature_g // 2),\n",
    "            nn.ReLU(True),\n",
    "        \n",
    "            # 128x128 → 256x256\n",
    "            nn.ConvTranspose2d(feature_g // 2, img_channels, 4, 2, 1, bias=False),\n",
    "            nn.Tanh()\n",
    "        )\n",
    "\n",
    "\n",
    "    def forward(self, x):\n",
    "        return self.gen(x)"
   ]
  },
  {
   "cell_type": "code",
   "execution_count": 5,
   "id": "e3ab91aa-bb8e-43a7-be3e-c27e88d437bb",
   "metadata": {},
   "outputs": [
    {
     "data": {
      "text/plain": [
       "Generator(\n",
       "  (gen): Sequential(\n",
       "    (0): ConvTranspose2d(100, 1024, kernel_size=(4, 4), stride=(1, 1), bias=False)\n",
       "    (1): BatchNorm2d(1024, eps=1e-05, momentum=0.1, affine=True, track_running_stats=True)\n",
       "    (2): ReLU(inplace=True)\n",
       "    (3): ConvTranspose2d(1024, 512, kernel_size=(4, 4), stride=(2, 2), padding=(1, 1), bias=False)\n",
       "    (4): BatchNorm2d(512, eps=1e-05, momentum=0.1, affine=True, track_running_stats=True)\n",
       "    (5): ReLU(inplace=True)\n",
       "    (6): ConvTranspose2d(512, 256, kernel_size=(4, 4), stride=(2, 2), padding=(1, 1), bias=False)\n",
       "    (7): BatchNorm2d(256, eps=1e-05, momentum=0.1, affine=True, track_running_stats=True)\n",
       "    (8): ReLU(inplace=True)\n",
       "    (9): ConvTranspose2d(256, 128, kernel_size=(4, 4), stride=(2, 2), padding=(1, 1), bias=False)\n",
       "    (10): BatchNorm2d(128, eps=1e-05, momentum=0.1, affine=True, track_running_stats=True)\n",
       "    (11): ReLU(inplace=True)\n",
       "    (12): ConvTranspose2d(128, 64, kernel_size=(4, 4), stride=(2, 2), padding=(1, 1), bias=False)\n",
       "    (13): BatchNorm2d(64, eps=1e-05, momentum=0.1, affine=True, track_running_stats=True)\n",
       "    (14): ReLU(inplace=True)\n",
       "    (15): ConvTranspose2d(64, 32, kernel_size=(4, 4), stride=(2, 2), padding=(1, 1), bias=False)\n",
       "    (16): BatchNorm2d(32, eps=1e-05, momentum=0.1, affine=True, track_running_stats=True)\n",
       "    (17): ReLU(inplace=True)\n",
       "    (18): ConvTranspose2d(32, 1, kernel_size=(4, 4), stride=(2, 2), padding=(1, 1), bias=False)\n",
       "    (19): Tanh()\n",
       "  )\n",
       ")"
      ]
     },
     "execution_count": 5,
     "metadata": {},
     "output_type": "execute_result"
    }
   ],
   "source": [
    "latent_dim = 100\n",
    "generator = Generator(latent_dim=latent_dim).to(device)\n",
    "generator.load_state_dict(torch.load(\"generator.pth\", map_location=device))\n",
    "generator.eval()"
   ]
  },
  {
   "cell_type": "code",
   "execution_count": 6,
   "id": "a8c2d029-73ab-493b-acdd-05bc51ff3a67",
   "metadata": {},
   "outputs": [],
   "source": [
    "# --- Generate and save images ---\n",
    "os.makedirs(\"generated_fakes\", exist_ok=True)\n",
    "\n",
    "batch_size = 32\n",
    "num_images = 6380+6380\n",
    "num_batches = (num_images + batch_size - 1) // batch_size"
   ]
  },
  {
   "cell_type": "code",
   "execution_count": 12,
   "id": "92587680-85de-49db-b5ee-9211ec6b2634",
   "metadata": {},
   "outputs": [
    {
     "name": "stderr",
     "output_type": "stream",
     "text": [
      "Generating fakes: 100%|██████████████████████████████████████████████████████████████| 399/399 [14:10<00:00,  2.13s/it]"
     ]
    },
    {
     "name": "stdout",
     "output_type": "stream",
     "text": [
      "✅ 1000 fake images saved in 'generated_fakes'\n"
     ]
    },
    {
     "name": "stderr",
     "output_type": "stream",
     "text": [
      "\n"
     ]
    }
   ],
   "source": [
    "with torch.no_grad():\n",
    "    for batch_idx in tqdm(range(num_batches), desc=\"Generating fakes\"):\n",
    "        noise = torch.randn(batch_size, latent_dim, 1, 1, device=device)\n",
    "        fake_imgs = generator(noise)\n",
    "\n",
    "        for i, img in enumerate(fake_imgs):\n",
    "            if batch_idx * batch_size + i >= num_images:\n",
    "                break\n",
    "            filename = f\"generated_fakes/fake_{batch_idx * batch_size + i:04d}.png\"\n",
    "            save_image(img, filename, normalize=True)\n",
    "\n",
    "print(\"✅ 1000 fake images saved in 'generated_fakes'\")"
   ]
  },
  {
   "cell_type": "code",
   "execution_count": null,
   "id": "6912c28d-c525-4ad8-b26b-c96fea87f609",
   "metadata": {},
   "outputs": [],
   "source": []
  },
  {
   "cell_type": "code",
   "execution_count": null,
   "id": "c48f9bae-85fa-4dde-ae54-c68862d83689",
   "metadata": {},
   "outputs": [],
   "source": []
  }
 ],
 "metadata": {
  "kernelspec": {
   "display_name": "Python (BTD)",
   "language": "python",
   "name": "btd"
  },
  "language_info": {
   "codemirror_mode": {
    "name": "ipython",
    "version": 3
   },
   "file_extension": ".py",
   "mimetype": "text/x-python",
   "name": "python",
   "nbconvert_exporter": "python",
   "pygments_lexer": "ipython3",
   "version": "3.10.16"
  }
 },
 "nbformat": 4,
 "nbformat_minor": 5
}
