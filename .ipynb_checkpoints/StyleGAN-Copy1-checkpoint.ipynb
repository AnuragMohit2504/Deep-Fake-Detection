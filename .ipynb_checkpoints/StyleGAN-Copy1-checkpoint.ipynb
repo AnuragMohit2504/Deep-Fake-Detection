{
 "cells": [
  {
   "cell_type": "code",
   "execution_count": 1,
   "id": "11945c1a-ffc1-46eb-8452-3fef0ac6bd01",
   "metadata": {
    "scrolled": true
   },
   "outputs": [],
   "source": [
    "import os\n",
    "from tqdm import tqdm\n",
    "import torch\n",
    "import torch.nn as nn\n",
    "import torch.optim as optim\n",
    "import torchvision.transforms as transforms\n",
    "from torch.utils.data import DataLoader, Dataset\n",
    "from torchvision.utils import make_grid, save_image\n",
    "from PIL import Image\n",
    "import numpy as np"
   ]
  },
  {
   "cell_type": "code",
   "execution_count": 2,
   "id": "a5c64b22-e763-4f95-a6d7-939a654d8dba",
   "metadata": {
    "scrolled": true
   },
   "outputs": [
    {
     "name": "stdout",
     "output_type": "stream",
     "text": [
      "cuda\n"
     ]
    }
   ],
   "source": [
    "# Set device (GPU if available)\n",
    "device = torch.device(\"cuda\" if torch.cuda.is_available() else \"cpu\")\n",
    "print(device)"
   ]
  },
  {
   "cell_type": "code",
   "execution_count": 3,
   "id": "b5ca19a4-cb7d-42b4-b35e-214f08a74733",
   "metadata": {
    "scrolled": true
   },
   "outputs": [],
   "source": [
    "from torch.utils.data import Dataset\n",
    "from torchvision import transforms\n",
    "from PIL import Image\n",
    "import os\n",
    "\n",
    "class CustomDataset(Dataset):\n",
    "    def __init__(self, img_dir, transform=None):\n",
    "        self.img_dir = img_dir\n",
    "        self.transform = transform\n",
    "        self.image_paths = []\n",
    "        self.labels = []\n",
    "\n",
    "        for label, subdir in enumerate(['tumor', 'notumor']):\n",
    "            subdir_path = os.path.join(img_dir, subdir)\n",
    "            for img_name in os.listdir(subdir_path):\n",
    "                if img_name.lower().endswith(('.png', '.jpg', '.jpeg')):\n",
    "                    self.image_paths.append(os.path.join(subdir_path, img_name))\n",
    "                    self.labels.append(label)\n",
    "\n",
    "    def __len__(self):\n",
    "        return len(self.image_paths)\n",
    "\n",
    "    def __getitem__(self, idx):\n",
    "        img_path = self.image_paths[idx]\n",
    "        label = self.labels[idx]\n",
    "\n",
    "        image = Image.open(img_path).convert('RGB')  # Converts grayscale to 3-channel RGB safely\n",
    "\n",
    "        if self.transform:\n",
    "            image = self.transform(image)\n",
    "\n",
    "        return image, label\n"
   ]
  },
  {
   "cell_type": "code",
   "execution_count": 4,
   "id": "b34515cb-4db2-4938-b67e-4feee3497d56",
   "metadata": {
    "scrolled": true
   },
   "outputs": [],
   "source": [
    "transform = transforms.Compose([\n",
    "    transforms.Resize(64),\n",
    "    transforms.CenterCrop(64),\n",
    "    transforms.RandomHorizontalFlip(),\n",
    "    transforms.RandomRotation(15),\n",
    "    transforms.ColorJitter(brightness=0.2, contrast=0.2, saturation=0.2, hue=0.1),\n",
    "    transforms.ToTensor(),  # Converts to [C, H, W] and scales to [0, 1]\n",
    "    transforms.Normalize(mean=[0.5]*3, std=[0.5]*3)  # Normalize to [-1, 1] for RGB\n",
    "])\n",
    "\n",
    "\n",
    "# Create dataset and dataloader\n",
    "dataset = CustomDataset('data/generation_data/Training', transform=transform)\n",
    "dataloader = DataLoader(dataset, batch_size=32, shuffle=True)"
   ]
  },
  {
   "cell_type": "code",
   "execution_count": 5,
   "id": "ae3f9c8b-0ea4-45c2-a496-b497aa657f90",
   "metadata": {
    "scrolled": true
   },
   "outputs": [],
   "source": [
    "# Generator Model\n",
    "class Generator(nn.Module):\n",
    "    def __init__(self, latent_dim, img_channels=3, feature_g=64):\n",
    "        super(Generator, self).__init__()\n",
    "        self.gen = nn.Sequential(\n",
    "            # Input: N × latent_dim × 1 × 1\n",
    "            nn.ConvTranspose2d(latent_dim, feature_g * 8, 4, 1, 0, bias=False),\n",
    "            nn.BatchNorm2d(feature_g * 8),\n",
    "            nn.ReLU(True),\n",
    "\n",
    "            nn.ConvTranspose2d(feature_g * 8, feature_g * 4, 4, 2, 1, bias=False),\n",
    "            nn.BatchNorm2d(feature_g * 4),\n",
    "            nn.ReLU(True),\n",
    "\n",
    "            nn.ConvTranspose2d(feature_g * 4, feature_g * 2, 4, 2, 1, bias=False),\n",
    "            nn.BatchNorm2d(feature_g * 2),\n",
    "            nn.ReLU(True),\n",
    "\n",
    "            nn.ConvTranspose2d(feature_g * 2, feature_g, 4, 2, 1, bias=False),\n",
    "            nn.BatchNorm2d(feature_g),\n",
    "            nn.ReLU(True),\n",
    "\n",
    "            nn.ConvTranspose2d(feature_g, img_channels, 4, 2, 1, bias=False),\n",
    "            nn.Tanh()  # Output: [-1, 1]\n",
    "        )\n",
    "\n",
    "    def forward(self, x):\n",
    "        return self.gen(x)"
   ]
  },
  {
   "cell_type": "code",
   "execution_count": 6,
   "id": "1171862a-5aa0-4c00-9613-cd7b3ef77fc3",
   "metadata": {
    "scrolled": true
   },
   "outputs": [],
   "source": [
    "class Discriminator(nn.Module):\n",
    "    def __init__(self, img_channels=3, feature_d=64):\n",
    "        super(Discriminator, self).__init__()\n",
    "        self.disc = nn.Sequential(\n",
    "            # Input: N × 3 × 64 × 64\n",
    "            nn.Conv2d(img_channels, feature_d, 4, 2, 1, bias=False),\n",
    "            nn.LeakyReLU(0.2, inplace=True),\n",
    "\n",
    "            nn.Conv2d(feature_d, feature_d * 2, 4, 2, 1, bias=False),\n",
    "            nn.BatchNorm2d(feature_d * 2),\n",
    "            nn.LeakyReLU(0.2, inplace=True),\n",
    "\n",
    "            nn.Conv2d(feature_d * 2, feature_d * 4, 4, 2, 1, bias=False),\n",
    "            nn.BatchNorm2d(feature_d * 4),\n",
    "            nn.LeakyReLU(0.2, inplace=True),\n",
    "\n",
    "            nn.Conv2d(feature_d * 4, feature_d * 8, 4, 2, 1, bias=False),\n",
    "            nn.BatchNorm2d(feature_d * 8),\n",
    "            nn.LeakyReLU(0.2, inplace=True),\n",
    "\n",
    "            nn.Conv2d(feature_d * 8, 1, 4, 1, 0, bias=False),\n",
    "            nn.Sigmoid()  # For binary classification (real vs fake)\n",
    "        )\n",
    "\n",
    "    def forward(self, x):\n",
    "        return self.disc(x).view(-1)\n"
   ]
  },
  {
   "cell_type": "code",
   "execution_count": 7,
   "id": "01a5512f-0631-4fbb-ac62-a540c62ae064",
   "metadata": {
    "scrolled": true
   },
   "outputs": [],
   "source": [
    "import torch.optim as optim\n",
    "\n",
    "criterion = nn.BCELoss()\n",
    "latent_dim=100\n",
    "generator = Generator(latent_dim).to(device)\n",
    "discriminator = Discriminator().to(device)\n",
    "\n",
    "optimizer_g = optim.Adam(generator.parameters(), lr=0.0002, betas=(0.5, 0.999))\n",
    "optimizer_d = optim.Adam(discriminator.parameters(), lr=0.0001, betas=(0.5, 0.999))\n"
   ]
  },
  {
   "cell_type": "code",
   "execution_count": 8,
   "id": "edacf278-9a2a-453c-aaf5-b5cde4092e29",
   "metadata": {},
   "outputs": [
    {
     "name": "stderr",
     "output_type": "stream",
     "text": [
      "                                                                                                                       \r"
     ]
    }
   ],
   "source": [
    "# latent_dim = 100\n",
    "num_epochs = 100\n",
    "fixed_noise = torch.randn(64,latent_dim, 1, 1, device=device)\n",
    "\n",
    "# Binary Cross Entropy Loss\n",
    "# criterion = nn.BCELoss()\n",
    "\n",
    "# # Optimizers (lower LR for discriminator)\n",
    "# optimizer_g = optim.Adam(generator.parameters(), lr=0.0002, betas=(0.5, 0.999))\n",
    "# optimizer_d = optim.Adam(discriminator.parameters(), lr=0.0001, betas=(0.5, 0.999))\n",
    "\n",
    "# Create output dir\n",
    "os.makedirs(\"generated\", exist_ok=True)\n",
    "\n",
    "for epoch in range(num_epochs):\n",
    "    progress = tqdm(dataloader, desc=f\"Epoch {epoch+1}/{num_epochs}\", leave=False)\n",
    "    \n",
    "    for i, (real_imgs, _) in enumerate(progress):\n",
    "        real_imgs = real_imgs.to(device)\n",
    "        batch_size = real_imgs.size(0)\n",
    "\n",
    "        # Normalize real images to [-1, 1] if not already\n",
    "        if real_imgs.max() > 1.0:\n",
    "            real_imgs = (real_imgs - 0.5) / 0.5\n",
    "\n",
    "        # ==================== Train Discriminator ====================\n",
    "        optimizer_d.zero_grad()\n",
    "\n",
    "        # Label smoothing for real images\n",
    "        real_labels = torch.full((batch_size,), 0.9, device=device)\n",
    "        fake_labels = torch.zeros(batch_size, device=device)\n",
    "\n",
    "        # Add noise to real images\n",
    "        noisy_real = real_imgs + 0.05 * torch.randn_like(real_imgs)\n",
    "\n",
    "        # Real image loss\n",
    "        outputs_real = discriminator(noisy_real).view(-1)\n",
    "        d_loss_real = criterion(outputs_real, real_labels)\n",
    "\n",
    "        # Generate fake images\n",
    "        noise = torch.randn(batch_size, latent_dim, 1, 1, device=device)\n",
    "        fake_imgs = generator(noise)\n",
    "\n",
    "        # Add noise to fake images\n",
    "        noisy_fake = fake_imgs + 0.05 * torch.randn_like(fake_imgs)\n",
    "\n",
    "        # Fake image loss\n",
    "        outputs_fake = discriminator(noisy_fake.detach()).view(-1)\n",
    "        d_loss_fake = criterion(outputs_fake, fake_labels)\n",
    "\n",
    "        # Total discriminator loss\n",
    "        d_loss = d_loss_real + d_loss_fake\n",
    "        d_loss.backward()\n",
    "        optimizer_d.step()\n",
    "\n",
    "        # ==================== Train Generator ====================\n",
    "        optimizer_g.zero_grad()\n",
    "        gen_labels = torch.ones(batch_size, device=device)  # wants to trick discriminator\n",
    "\n",
    "        outputs = discriminator(fake_imgs).view(-1)\n",
    "        g_loss = criterion(outputs, gen_labels)\n",
    "\n",
    "        g_loss.backward()\n",
    "        optimizer_g.step()\n",
    "\n",
    "        # Update tqdm progress bar\n",
    "        progress.set_postfix(D_loss=f\"{d_loss.item():.4f}\", G_loss=f\"{g_loss.item():.4f}\")\n",
    "\n",
    "    # ==================== Save Generated Images ====================\n",
    "    with torch.no_grad():\n",
    "        fake = generator(fixed_noise).detach().cpu()\n",
    "        grid = make_grid(fake, nrow=8, normalize=True)\n",
    "        save_image(grid, f\"generated/epoch_{epoch+1:03d}.png\")\n",
    "\n",
    "# Save final generator\n",
    "torch.save(generator.state_dict(), \"generator.pth\")\n"
   ]
  },
  {
   "cell_type": "code",
   "execution_count": null,
   "id": "a30babc3-37bc-461c-abfe-d234da2b1627",
   "metadata": {},
   "outputs": [],
   "source": []
  },
  {
   "cell_type": "code",
   "execution_count": null,
   "id": "54522873-3ad8-43a1-99e5-c3874711b123",
   "metadata": {},
   "outputs": [],
   "source": []
  },
  {
   "cell_type": "code",
   "execution_count": null,
   "id": "01648406-84a2-4e20-ab8b-b005a7cfab1c",
   "metadata": {},
   "outputs": [],
   "source": []
  },
  {
   "cell_type": "code",
   "execution_count": null,
   "id": "4be08c78-3e82-4c58-aac0-b03bc90f4f73",
   "metadata": {},
   "outputs": [],
   "source": []
  }
 ],
 "metadata": {
  "kernelspec": {
   "display_name": "Python (btd)",
   "language": "python",
   "name": "btd"
  },
  "language_info": {
   "codemirror_mode": {
    "name": "ipython",
    "version": 3
   },
   "file_extension": ".py",
   "mimetype": "text/x-python",
   "name": "python",
   "nbconvert_exporter": "python",
   "pygments_lexer": "ipython3",
   "version": "3.10.16"
  }
 },
 "nbformat": 4,
 "nbformat_minor": 5
}
