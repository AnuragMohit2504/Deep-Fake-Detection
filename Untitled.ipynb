{
 "cells": [
  {
   "cell_type": "code",
   "execution_count": 6,
   "id": "42b69eea-68dd-4ff6-ad5b-efa352ddff52",
   "metadata": {},
   "outputs": [
    {
     "name": "stdout",
     "output_type": "stream",
     "text": [
      "Done! 🎉\n"
     ]
    }
   ],
   "source": [
    "import os\n",
    "import shutil\n",
    "import random\n",
    "\n",
    "# Path to your image folder\n",
    "image_dir = './data/Dataset/generated_fakes_unique/'\n",
    "all_images = os.listdir(image_dir)\n",
    "\n",
    "# Shuffle the list\n",
    "random.shuffle(all_images)\n",
    "\n",
    "# Define split ratio\n",
    "train_ratio = 0.8\n",
    "train_count = int(len(all_images) * train_ratio)\n",
    "\n",
    "# Create directories for train and test\n",
    "os.makedirs('data/Dataset/train', exist_ok=True)\n",
    "os.makedirs('data/Dataset/test', exist_ok=True)\n",
    "\n",
    "# Split images\n",
    "for i, img in enumerate(all_images):\n",
    "    src_path = os.path.join(image_dir, img)\n",
    "    if i < train_count:\n",
    "        dst_path = os.path.join('data/Dataset/train', img)\n",
    "    else:\n",
    "        dst_path = os.path.join('data/Dataset/test', img)\n",
    "    shutil.copy(src_path, dst_path)\n",
    "\n",
    "print(\"Done! 🎉\")\n"
   ]
  },
  {
   "cell_type": "code",
   "execution_count": null,
   "id": "85751459-701f-401a-a72d-5215c9db1e95",
   "metadata": {},
   "outputs": [],
   "source": []
  }
 ],
 "metadata": {
  "kernelspec": {
   "display_name": "Python (BTD)",
   "language": "python",
   "name": "btd"
  },
  "language_info": {
   "codemirror_mode": {
    "name": "ipython",
    "version": 3
   },
   "file_extension": ".py",
   "mimetype": "text/x-python",
   "name": "python",
   "nbconvert_exporter": "python",
   "pygments_lexer": "ipython3",
   "version": "3.10.16"
  }
 },
 "nbformat": 4,
 "nbformat_minor": 5
}
